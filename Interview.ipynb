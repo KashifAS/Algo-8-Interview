{
 "cells": [
  {
   "cell_type": "markdown",
   "metadata": {},
   "source": [
    "# Import packages"
   ]
  },
  {
   "cell_type": "code",
   "execution_count": 41,
   "metadata": {},
   "outputs": [],
   "source": [
    "\n",
    "import warnings\n",
    "warnings.filterwarnings(\"ignore\")\n",
    "import shutil\n",
    "import os\n",
    "import pandas as pd\n",
    "import matplotlib\n",
    "matplotlib.use(u'nbAgg')\n",
    "import matplotlib.pyplot as plt\n",
    "import seaborn as sns\n",
    "import numpy as np\n",
    "from sklearn.model_selection import train_test_split\n",
    "from sklearn.preprocessing import MinMaxScaler\n",
    "from sklearn.feature_extraction.text import CountVectorizer\n",
    "from sklearn.preprocessing import LabelEncoder \n",
    "from sklearn.model_selection import GridSearchCV\n",
    "from sklearn.neighbors import KNeighborsClassifier\n",
    "from sklearn.metrics import log_loss\n",
    "from tqdm import tqdm\n",
    "from sklearn.calibration import CalibratedClassifierCV\n",
    "from sklearn.linear_model import LogisticRegression\n",
    "from sklearn.externals import joblib \n",
    "from sklearn.ensemble import RandomForestClassifier\n",
    "import lightgbm as lgb"
   ]
  },
  {
   "cell_type": "markdown",
   "metadata": {},
   "source": [
    "# Loading processing and normalize data"
   ]
  },
  {
   "cell_type": "code",
   "execution_count": 3,
   "metadata": {},
   "outputs": [],
   "source": [
    "df = pd.read_csv(\"sample_data_intw.csv\") "
   ]
  },
  {
   "cell_type": "code",
   "execution_count": 4,
   "metadata": {},
   "outputs": [
    {
     "data": {
      "text/html": [
       "<div>\n",
       "<style scoped>\n",
       "    .dataframe tbody tr th:only-of-type {\n",
       "        vertical-align: middle;\n",
       "    }\n",
       "\n",
       "    .dataframe tbody tr th {\n",
       "        vertical-align: top;\n",
       "    }\n",
       "\n",
       "    .dataframe thead th {\n",
       "        text-align: right;\n",
       "    }\n",
       "</style>\n",
       "<table border=\"1\" class=\"dataframe\">\n",
       "  <thead>\n",
       "    <tr style=\"text-align: right;\">\n",
       "      <th></th>\n",
       "      <th>Unnamed: 0</th>\n",
       "      <th>label</th>\n",
       "      <th>msisdn</th>\n",
       "      <th>aon</th>\n",
       "      <th>daily_decr30</th>\n",
       "      <th>daily_decr90</th>\n",
       "      <th>rental30</th>\n",
       "      <th>rental90</th>\n",
       "      <th>last_rech_date_ma</th>\n",
       "      <th>last_rech_date_da</th>\n",
       "      <th>...</th>\n",
       "      <th>maxamnt_loans30</th>\n",
       "      <th>medianamnt_loans30</th>\n",
       "      <th>cnt_loans90</th>\n",
       "      <th>amnt_loans90</th>\n",
       "      <th>maxamnt_loans90</th>\n",
       "      <th>medianamnt_loans90</th>\n",
       "      <th>payback30</th>\n",
       "      <th>payback90</th>\n",
       "      <th>pcircle</th>\n",
       "      <th>pdate</th>\n",
       "    </tr>\n",
       "  </thead>\n",
       "  <tbody>\n",
       "    <tr>\n",
       "      <td>0</td>\n",
       "      <td>1</td>\n",
       "      <td>0</td>\n",
       "      <td>21408I70789</td>\n",
       "      <td>272.0</td>\n",
       "      <td>3055.050000</td>\n",
       "      <td>3065.150000</td>\n",
       "      <td>220.13</td>\n",
       "      <td>260.13</td>\n",
       "      <td>2.0</td>\n",
       "      <td>0.0</td>\n",
       "      <td>...</td>\n",
       "      <td>6.0</td>\n",
       "      <td>0.0</td>\n",
       "      <td>2.0</td>\n",
       "      <td>12</td>\n",
       "      <td>6</td>\n",
       "      <td>0.0</td>\n",
       "      <td>29.000000</td>\n",
       "      <td>29.000000</td>\n",
       "      <td>UPW</td>\n",
       "      <td>2016-07-20</td>\n",
       "    </tr>\n",
       "    <tr>\n",
       "      <td>1</td>\n",
       "      <td>2</td>\n",
       "      <td>1</td>\n",
       "      <td>76462I70374</td>\n",
       "      <td>712.0</td>\n",
       "      <td>12122.000000</td>\n",
       "      <td>12124.750000</td>\n",
       "      <td>3691.26</td>\n",
       "      <td>3691.26</td>\n",
       "      <td>20.0</td>\n",
       "      <td>0.0</td>\n",
       "      <td>...</td>\n",
       "      <td>12.0</td>\n",
       "      <td>0.0</td>\n",
       "      <td>1.0</td>\n",
       "      <td>12</td>\n",
       "      <td>12</td>\n",
       "      <td>0.0</td>\n",
       "      <td>0.000000</td>\n",
       "      <td>0.000000</td>\n",
       "      <td>UPW</td>\n",
       "      <td>2016-08-10</td>\n",
       "    </tr>\n",
       "    <tr>\n",
       "      <td>2</td>\n",
       "      <td>3</td>\n",
       "      <td>1</td>\n",
       "      <td>17943I70372</td>\n",
       "      <td>535.0</td>\n",
       "      <td>1398.000000</td>\n",
       "      <td>1398.000000</td>\n",
       "      <td>900.13</td>\n",
       "      <td>900.13</td>\n",
       "      <td>3.0</td>\n",
       "      <td>0.0</td>\n",
       "      <td>...</td>\n",
       "      <td>6.0</td>\n",
       "      <td>0.0</td>\n",
       "      <td>1.0</td>\n",
       "      <td>6</td>\n",
       "      <td>6</td>\n",
       "      <td>0.0</td>\n",
       "      <td>0.000000</td>\n",
       "      <td>0.000000</td>\n",
       "      <td>UPW</td>\n",
       "      <td>2016-08-19</td>\n",
       "    </tr>\n",
       "    <tr>\n",
       "      <td>3</td>\n",
       "      <td>4</td>\n",
       "      <td>1</td>\n",
       "      <td>55773I70781</td>\n",
       "      <td>241.0</td>\n",
       "      <td>21.228000</td>\n",
       "      <td>21.228000</td>\n",
       "      <td>159.42</td>\n",
       "      <td>159.42</td>\n",
       "      <td>41.0</td>\n",
       "      <td>0.0</td>\n",
       "      <td>...</td>\n",
       "      <td>6.0</td>\n",
       "      <td>0.0</td>\n",
       "      <td>2.0</td>\n",
       "      <td>12</td>\n",
       "      <td>6</td>\n",
       "      <td>0.0</td>\n",
       "      <td>0.000000</td>\n",
       "      <td>0.000000</td>\n",
       "      <td>UPW</td>\n",
       "      <td>2016-06-06</td>\n",
       "    </tr>\n",
       "    <tr>\n",
       "      <td>4</td>\n",
       "      <td>5</td>\n",
       "      <td>1</td>\n",
       "      <td>03813I82730</td>\n",
       "      <td>947.0</td>\n",
       "      <td>150.619333</td>\n",
       "      <td>150.619333</td>\n",
       "      <td>1098.90</td>\n",
       "      <td>1098.90</td>\n",
       "      <td>4.0</td>\n",
       "      <td>0.0</td>\n",
       "      <td>...</td>\n",
       "      <td>6.0</td>\n",
       "      <td>0.0</td>\n",
       "      <td>7.0</td>\n",
       "      <td>42</td>\n",
       "      <td>6</td>\n",
       "      <td>0.0</td>\n",
       "      <td>2.333333</td>\n",
       "      <td>2.333333</td>\n",
       "      <td>UPW</td>\n",
       "      <td>2016-06-22</td>\n",
       "    </tr>\n",
       "  </tbody>\n",
       "</table>\n",
       "<p>5 rows × 37 columns</p>\n",
       "</div>"
      ],
      "text/plain": [
       "   Unnamed: 0  label       msisdn    aon  daily_decr30  daily_decr90  \\\n",
       "0           1      0  21408I70789  272.0   3055.050000   3065.150000   \n",
       "1           2      1  76462I70374  712.0  12122.000000  12124.750000   \n",
       "2           3      1  17943I70372  535.0   1398.000000   1398.000000   \n",
       "3           4      1  55773I70781  241.0     21.228000     21.228000   \n",
       "4           5      1  03813I82730  947.0    150.619333    150.619333   \n",
       "\n",
       "   rental30  rental90  last_rech_date_ma  last_rech_date_da  ...  \\\n",
       "0    220.13    260.13                2.0                0.0  ...   \n",
       "1   3691.26   3691.26               20.0                0.0  ...   \n",
       "2    900.13    900.13                3.0                0.0  ...   \n",
       "3    159.42    159.42               41.0                0.0  ...   \n",
       "4   1098.90   1098.90                4.0                0.0  ...   \n",
       "\n",
       "   maxamnt_loans30  medianamnt_loans30  cnt_loans90  amnt_loans90  \\\n",
       "0              6.0                 0.0          2.0            12   \n",
       "1             12.0                 0.0          1.0            12   \n",
       "2              6.0                 0.0          1.0             6   \n",
       "3              6.0                 0.0          2.0            12   \n",
       "4              6.0                 0.0          7.0            42   \n",
       "\n",
       "   maxamnt_loans90  medianamnt_loans90  payback30  payback90  pcircle  \\\n",
       "0                6                 0.0  29.000000  29.000000      UPW   \n",
       "1               12                 0.0   0.000000   0.000000      UPW   \n",
       "2                6                 0.0   0.000000   0.000000      UPW   \n",
       "3                6                 0.0   0.000000   0.000000      UPW   \n",
       "4                6                 0.0   2.333333   2.333333      UPW   \n",
       "\n",
       "        pdate  \n",
       "0  2016-07-20  \n",
       "1  2016-08-10  \n",
       "2  2016-08-19  \n",
       "3  2016-06-06  \n",
       "4  2016-06-22  \n",
       "\n",
       "[5 rows x 37 columns]"
      ]
     },
     "execution_count": 4,
     "metadata": {},
     "output_type": "execute_result"
    }
   ],
   "source": [
    "df.head()"
   ]
  },
  {
   "cell_type": "code",
   "execution_count": 87,
   "metadata": {},
   "outputs": [
    {
     "data": {
      "text/plain": [
       "{'UPW'}"
      ]
     },
     "execution_count": 87,
     "metadata": {},
     "output_type": "execute_result"
    }
   ],
   "source": [
    "set(df['pcircle'].values)"
   ]
  },
  {
   "cell_type": "markdown",
   "metadata": {},
   "source": [
    "##### Drop pcircle since its just having single value"
   ]
  },
  {
   "cell_type": "code",
   "execution_count": 8,
   "metadata": {},
   "outputs": [
    {
     "name": "stdout",
     "output_type": "stream",
     "text": [
      "Number of data points in data (209593, 37)\n",
      "--------------------------------------------------\n",
      "The attributes of data : ['Unnamed: 0' 'label' 'msisdn' 'aon' 'daily_decr30' 'daily_decr90'\n",
      " 'rental30' 'rental90' 'last_rech_date_ma' 'last_rech_date_da'\n",
      " 'last_rech_amt_ma' 'cnt_ma_rech30' 'fr_ma_rech30' 'sumamnt_ma_rech30'\n",
      " 'medianamnt_ma_rech30' 'medianmarechprebal30' 'cnt_ma_rech90'\n",
      " 'fr_ma_rech90' 'sumamnt_ma_rech90' 'medianamnt_ma_rech90'\n",
      " 'medianmarechprebal90' 'cnt_da_rech30' 'fr_da_rech30' 'cnt_da_rech90'\n",
      " 'fr_da_rech90' 'cnt_loans30' 'amnt_loans30' 'maxamnt_loans30'\n",
      " 'medianamnt_loans30' 'cnt_loans90' 'amnt_loans90' 'maxamnt_loans90'\n",
      " 'medianamnt_loans90' 'payback30' 'payback90' 'pcircle' 'pdate']\n"
     ]
    }
   ],
   "source": [
    "print(\"Number of data points in data\", df.shape)\n",
    "print('-'*50)\n",
    "print(\"The attributes of data :\", df.columns.values)\n"
   ]
  },
  {
   "cell_type": "code",
   "execution_count": 18,
   "metadata": {},
   "outputs": [
    {
     "name": "stdout",
     "output_type": "stream",
     "text": [
      "No of class 1 points 183431\n",
      "No of class 0 points 26162\n"
     ]
    }
   ],
   "source": [
    "count = 0\n",
    "for val in df['label'].values:\n",
    "    if val == 1:\n",
    "        count = count + 1\n",
    "print(\"No of class 1 points\",count)\n",
    "print(\"No of class 0 points\", df.shape[0] - count)\n",
    "\n"
   ]
  },
  {
   "cell_type": "code",
   "execution_count": 27,
   "metadata": {},
   "outputs": [
    {
     "name": "stdout",
     "output_type": "stream",
     "text": [
      "No of unique values in date column\n"
     ]
    },
    {
     "data": {
      "text/plain": [
       "82"
      ]
     },
     "execution_count": 27,
     "metadata": {},
     "output_type": "execute_result"
    }
   ],
   "source": [
    "print(\"No of unique values in date column\")\n",
    "len(set(df['pdate'].values))"
   ]
  },
  {
   "cell_type": "code",
   "execution_count": 28,
   "metadata": {},
   "outputs": [
    {
     "name": "stdout",
     "output_type": "stream",
     "text": [
      "No of unique values in mobile number column\n"
     ]
    },
    {
     "data": {
      "text/plain": [
       "186243"
      ]
     },
     "execution_count": 28,
     "metadata": {},
     "output_type": "execute_result"
    }
   ],
   "source": [
    "print(\"No of unique values in mobile number column\")\n",
    "len(set(df['msisdn'].values))"
   ]
  },
  {
   "cell_type": "markdown",
   "metadata": {},
   "source": [
    "#### My gut feel was date and phone number were not useful but no of unique dates are quite less than phone number. Therefore drop phone number."
   ]
  },
  {
   "cell_type": "code",
   "execution_count": 5,
   "metadata": {},
   "outputs": [],
   "source": [
    "df.drop(['Unnamed: 0','msisdn','pcircle'], axis = 1, inplace = True) "
   ]
  },
  {
   "cell_type": "code",
   "execution_count": 90,
   "metadata": {},
   "outputs": [
    {
     "data": {
      "text/html": [
       "<div>\n",
       "<style scoped>\n",
       "    .dataframe tbody tr th:only-of-type {\n",
       "        vertical-align: middle;\n",
       "    }\n",
       "\n",
       "    .dataframe tbody tr th {\n",
       "        vertical-align: top;\n",
       "    }\n",
       "\n",
       "    .dataframe thead th {\n",
       "        text-align: right;\n",
       "    }\n",
       "</style>\n",
       "<table border=\"1\" class=\"dataframe\">\n",
       "  <thead>\n",
       "    <tr style=\"text-align: right;\">\n",
       "      <th></th>\n",
       "      <th>label</th>\n",
       "      <th>aon</th>\n",
       "      <th>daily_decr30</th>\n",
       "      <th>daily_decr90</th>\n",
       "      <th>rental30</th>\n",
       "      <th>rental90</th>\n",
       "      <th>last_rech_date_ma</th>\n",
       "      <th>last_rech_date_da</th>\n",
       "      <th>last_rech_amt_ma</th>\n",
       "      <th>cnt_ma_rech30</th>\n",
       "      <th>...</th>\n",
       "      <th>amnt_loans30</th>\n",
       "      <th>maxamnt_loans30</th>\n",
       "      <th>medianamnt_loans30</th>\n",
       "      <th>cnt_loans90</th>\n",
       "      <th>amnt_loans90</th>\n",
       "      <th>maxamnt_loans90</th>\n",
       "      <th>medianamnt_loans90</th>\n",
       "      <th>payback30</th>\n",
       "      <th>payback90</th>\n",
       "      <th>pdate</th>\n",
       "    </tr>\n",
       "  </thead>\n",
       "  <tbody>\n",
       "    <tr>\n",
       "      <td>0</td>\n",
       "      <td>0</td>\n",
       "      <td>272.0</td>\n",
       "      <td>3055.050000</td>\n",
       "      <td>3065.150000</td>\n",
       "      <td>220.13</td>\n",
       "      <td>260.13</td>\n",
       "      <td>2.0</td>\n",
       "      <td>0.0</td>\n",
       "      <td>1539</td>\n",
       "      <td>2</td>\n",
       "      <td>...</td>\n",
       "      <td>12</td>\n",
       "      <td>6.0</td>\n",
       "      <td>0.0</td>\n",
       "      <td>2.0</td>\n",
       "      <td>12</td>\n",
       "      <td>6</td>\n",
       "      <td>0.0</td>\n",
       "      <td>29.000000</td>\n",
       "      <td>29.000000</td>\n",
       "      <td>2016-07-20</td>\n",
       "    </tr>\n",
       "    <tr>\n",
       "      <td>1</td>\n",
       "      <td>1</td>\n",
       "      <td>712.0</td>\n",
       "      <td>12122.000000</td>\n",
       "      <td>12124.750000</td>\n",
       "      <td>3691.26</td>\n",
       "      <td>3691.26</td>\n",
       "      <td>20.0</td>\n",
       "      <td>0.0</td>\n",
       "      <td>5787</td>\n",
       "      <td>1</td>\n",
       "      <td>...</td>\n",
       "      <td>12</td>\n",
       "      <td>12.0</td>\n",
       "      <td>0.0</td>\n",
       "      <td>1.0</td>\n",
       "      <td>12</td>\n",
       "      <td>12</td>\n",
       "      <td>0.0</td>\n",
       "      <td>0.000000</td>\n",
       "      <td>0.000000</td>\n",
       "      <td>2016-08-10</td>\n",
       "    </tr>\n",
       "    <tr>\n",
       "      <td>2</td>\n",
       "      <td>1</td>\n",
       "      <td>535.0</td>\n",
       "      <td>1398.000000</td>\n",
       "      <td>1398.000000</td>\n",
       "      <td>900.13</td>\n",
       "      <td>900.13</td>\n",
       "      <td>3.0</td>\n",
       "      <td>0.0</td>\n",
       "      <td>1539</td>\n",
       "      <td>1</td>\n",
       "      <td>...</td>\n",
       "      <td>6</td>\n",
       "      <td>6.0</td>\n",
       "      <td>0.0</td>\n",
       "      <td>1.0</td>\n",
       "      <td>6</td>\n",
       "      <td>6</td>\n",
       "      <td>0.0</td>\n",
       "      <td>0.000000</td>\n",
       "      <td>0.000000</td>\n",
       "      <td>2016-08-19</td>\n",
       "    </tr>\n",
       "    <tr>\n",
       "      <td>3</td>\n",
       "      <td>1</td>\n",
       "      <td>241.0</td>\n",
       "      <td>21.228000</td>\n",
       "      <td>21.228000</td>\n",
       "      <td>159.42</td>\n",
       "      <td>159.42</td>\n",
       "      <td>41.0</td>\n",
       "      <td>0.0</td>\n",
       "      <td>947</td>\n",
       "      <td>0</td>\n",
       "      <td>...</td>\n",
       "      <td>12</td>\n",
       "      <td>6.0</td>\n",
       "      <td>0.0</td>\n",
       "      <td>2.0</td>\n",
       "      <td>12</td>\n",
       "      <td>6</td>\n",
       "      <td>0.0</td>\n",
       "      <td>0.000000</td>\n",
       "      <td>0.000000</td>\n",
       "      <td>2016-06-06</td>\n",
       "    </tr>\n",
       "    <tr>\n",
       "      <td>4</td>\n",
       "      <td>1</td>\n",
       "      <td>947.0</td>\n",
       "      <td>150.619333</td>\n",
       "      <td>150.619333</td>\n",
       "      <td>1098.90</td>\n",
       "      <td>1098.90</td>\n",
       "      <td>4.0</td>\n",
       "      <td>0.0</td>\n",
       "      <td>2309</td>\n",
       "      <td>7</td>\n",
       "      <td>...</td>\n",
       "      <td>42</td>\n",
       "      <td>6.0</td>\n",
       "      <td>0.0</td>\n",
       "      <td>7.0</td>\n",
       "      <td>42</td>\n",
       "      <td>6</td>\n",
       "      <td>0.0</td>\n",
       "      <td>2.333333</td>\n",
       "      <td>2.333333</td>\n",
       "      <td>2016-06-22</td>\n",
       "    </tr>\n",
       "  </tbody>\n",
       "</table>\n",
       "<p>5 rows × 34 columns</p>\n",
       "</div>"
      ],
      "text/plain": [
       "   label    aon  daily_decr30  daily_decr90  rental30  rental90  \\\n",
       "0      0  272.0   3055.050000   3065.150000    220.13    260.13   \n",
       "1      1  712.0  12122.000000  12124.750000   3691.26   3691.26   \n",
       "2      1  535.0   1398.000000   1398.000000    900.13    900.13   \n",
       "3      1  241.0     21.228000     21.228000    159.42    159.42   \n",
       "4      1  947.0    150.619333    150.619333   1098.90   1098.90   \n",
       "\n",
       "   last_rech_date_ma  last_rech_date_da  last_rech_amt_ma  cnt_ma_rech30  ...  \\\n",
       "0                2.0                0.0              1539              2  ...   \n",
       "1               20.0                0.0              5787              1  ...   \n",
       "2                3.0                0.0              1539              1  ...   \n",
       "3               41.0                0.0               947              0  ...   \n",
       "4                4.0                0.0              2309              7  ...   \n",
       "\n",
       "   amnt_loans30  maxamnt_loans30  medianamnt_loans30  cnt_loans90  \\\n",
       "0            12              6.0                 0.0          2.0   \n",
       "1            12             12.0                 0.0          1.0   \n",
       "2             6              6.0                 0.0          1.0   \n",
       "3            12              6.0                 0.0          2.0   \n",
       "4            42              6.0                 0.0          7.0   \n",
       "\n",
       "   amnt_loans90  maxamnt_loans90  medianamnt_loans90  payback30  payback90  \\\n",
       "0            12                6                 0.0  29.000000  29.000000   \n",
       "1            12               12                 0.0   0.000000   0.000000   \n",
       "2             6                6                 0.0   0.000000   0.000000   \n",
       "3            12                6                 0.0   0.000000   0.000000   \n",
       "4            42                6                 0.0   2.333333   2.333333   \n",
       "\n",
       "        pdate  \n",
       "0  2016-07-20  \n",
       "1  2016-08-10  \n",
       "2  2016-08-19  \n",
       "3  2016-06-06  \n",
       "4  2016-06-22  \n",
       "\n",
       "[5 rows x 34 columns]"
      ]
     },
     "execution_count": 90,
     "metadata": {},
     "output_type": "execute_result"
    }
   ],
   "source": [
    "df.head()"
   ]
  },
  {
   "cell_type": "code",
   "execution_count": 91,
   "metadata": {},
   "outputs": [
    {
     "name": "stdout",
     "output_type": "stream",
     "text": [
      "Duplicate Rows except first occurrence based on all columns are :\n",
      "        label    aon  daily_decr30  daily_decr90  rental30  rental90  \\\n",
      "35769       0  118.0      0.000000      0.000000      0.00      0.00   \n",
      "49751       0  347.0     -2.666667     -2.666667      0.00      0.00   \n",
      "51852       0  671.0      0.000000      0.000000      0.00      0.00   \n",
      "57581       0  152.0    500.000000    500.000000      0.00      0.00   \n",
      "68296       0   51.0      0.000000      0.000000      0.00      0.00   \n",
      "90887       0   81.0      0.000000      0.000000      0.00      0.00   \n",
      "94430       0  127.0      0.000000      0.000000      0.00      0.00   \n",
      "98092       0   62.0      0.000000      0.000000      0.00      0.00   \n",
      "111140      0  150.0    500.000000    500.000000      0.00      0.00   \n",
      "124619      0  542.0      0.000000      0.000000      0.00      0.00   \n",
      "135203      0   53.0      0.000000      0.000000      0.00      0.00   \n",
      "137416      0  339.0      0.000000      0.000000      0.00      0.00   \n",
      "138582      0  101.0      0.000000      0.000000      0.00      0.00   \n",
      "151181      0   76.0      0.000000      0.000000      0.00      0.00   \n",
      "151753      0  142.0      0.000000      0.000000      0.00      0.00   \n",
      "159521      0   94.0    500.000000    500.000000      0.00      0.00   \n",
      "160902      0   53.0      0.000000      0.000000      0.00      0.00   \n",
      "162585      0   70.0      0.000000      0.000000      0.00      0.00   \n",
      "163854      0   60.0      0.000000      0.000000     65.25     65.25   \n",
      "174785      0  676.0      0.000000      0.000000      0.00      0.00   \n",
      "183632      0  552.0      0.000000      0.000000      0.00      0.00   \n",
      "188369      0   75.0      0.000000      0.000000      0.00      0.00   \n",
      "192053      0  115.0      0.000000      0.000000      0.00      0.00   \n",
      "193897      0   53.0      0.000000      0.000000      0.00      0.00   \n",
      "195633      1  776.0    800.000000    800.000000      0.00      0.00   \n",
      "196936      0   58.0      0.000000      0.000000      0.00      0.00   \n",
      "197408      0  183.0    500.000000    500.000000      0.00      0.00   \n",
      "198194      1  367.0   3136.666667   3136.666667   3320.95   3320.95   \n",
      "198511      0   79.0      0.000000      0.000000      0.00      0.00   \n",
      "199729      0  164.0      0.000000      0.000000      0.00      0.00   \n",
      "203773      0   44.0      0.000000      0.000000      0.00      0.00   \n",
      "\n",
      "        last_rech_date_ma  last_rech_date_da  last_rech_amt_ma  cnt_ma_rech30  \\\n",
      "35769                 0.0                0.0                 0              0   \n",
      "49751                 0.0                0.0                 0              0   \n",
      "51852                 0.0                0.0                 0              0   \n",
      "57581                 0.0                0.0                 0              0   \n",
      "68296                 0.0                0.0                 0              0   \n",
      "90887                 0.0                0.0                 0              0   \n",
      "94430                 0.0                0.0                 0              0   \n",
      "98092                 0.0                0.0                 0              0   \n",
      "111140                0.0                0.0                 0              0   \n",
      "124619                0.0                0.0                 0              0   \n",
      "135203                0.0                0.0                 0              0   \n",
      "137416                0.0                0.0                 0              0   \n",
      "138582                0.0                0.0                 0              0   \n",
      "151181                0.0                0.0                 0              0   \n",
      "151753                0.0                0.0                 0              0   \n",
      "159521                0.0                0.0                 0              0   \n",
      "160902                0.0                0.0                 0              0   \n",
      "162585                0.0                0.0                 0              0   \n",
      "163854                0.0                0.0                 0              0   \n",
      "174785                0.0                0.0                 0              0   \n",
      "183632                0.0                0.0                 0              0   \n",
      "188369                0.0                0.0                 0              0   \n",
      "192053                0.0                0.0                 0              0   \n",
      "193897                0.0                0.0                 0              0   \n",
      "195633                0.0                0.0                 0              0   \n",
      "196936                0.0                0.0                 0              0   \n",
      "197408                0.0                0.0                 0              0   \n",
      "198194                1.0                0.0               770              5   \n",
      "198511                0.0                0.0                 0              0   \n",
      "199729                0.0                0.0                 0              0   \n",
      "203773                0.0                0.0                 0              0   \n",
      "\n",
      "        ...  amnt_loans30  maxamnt_loans30  medianamnt_loans30  cnt_loans90  \\\n",
      "35769   ...             6              6.0                 0.0          1.0   \n",
      "49751   ...             6              6.0                 0.0          1.0   \n",
      "51852   ...             6              6.0                 0.0          1.0   \n",
      "57581   ...             6              6.0                 0.0          1.0   \n",
      "68296   ...             6              6.0                 0.0          1.0   \n",
      "90887   ...             6              6.0                 0.0          1.0   \n",
      "94430   ...             6              6.0                 0.0          1.0   \n",
      "98092   ...             6              6.0                 0.0          1.0   \n",
      "111140  ...             6              6.0                 0.0          1.0   \n",
      "124619  ...             6              6.0                 0.0          1.0   \n",
      "135203  ...             6              6.0                 0.0          1.0   \n",
      "137416  ...             6              6.0                 0.0          1.0   \n",
      "138582  ...             6              6.0                 0.0          1.0   \n",
      "151181  ...             6              6.0                 0.0          1.0   \n",
      "151753  ...             6              6.0                 0.0          1.0   \n",
      "159521  ...             6              6.0                 0.0          1.0   \n",
      "160902  ...             6              6.0                 0.0          1.0   \n",
      "162585  ...             6              6.0                 0.0          1.0   \n",
      "163854  ...             6              6.0                 0.0          1.0   \n",
      "174785  ...             6              6.0                 0.0          1.0   \n",
      "183632  ...             6              6.0                 0.0          1.0   \n",
      "188369  ...             6              6.0                 0.0          1.0   \n",
      "192053  ...             6              6.0                 0.0          1.0   \n",
      "193897  ...             6              6.0                 0.0          1.0   \n",
      "195633  ...             6              6.0                 0.0          1.0   \n",
      "196936  ...             6              6.0                 0.0          1.0   \n",
      "197408  ...             6              6.0                 0.0          1.0   \n",
      "198194  ...            24              6.0                 0.0          4.0   \n",
      "198511  ...             6              6.0                 0.0          1.0   \n",
      "199729  ...             6              6.0                 0.0          1.0   \n",
      "203773  ...             6              6.0                 0.0          1.0   \n",
      "\n",
      "        amnt_loans90  maxamnt_loans90  medianamnt_loans90  payback30  \\\n",
      "35769              6                6                 0.0       0.00   \n",
      "49751              6                6                 0.0       0.00   \n",
      "51852              6                6                 0.0       0.00   \n",
      "57581              6                6                 0.0       0.00   \n",
      "68296              6                6                 0.0       0.00   \n",
      "90887              6                6                 0.0       0.00   \n",
      "94430              6                6                 0.0       0.00   \n",
      "98092              6                6                 0.0       0.00   \n",
      "111140             6                6                 0.0       0.00   \n",
      "124619             6                6                 0.0       0.00   \n",
      "135203             6                6                 0.0       0.00   \n",
      "137416             6                6                 0.0       0.00   \n",
      "138582             6                6                 0.0       0.00   \n",
      "151181             6                6                 0.0       0.00   \n",
      "151753             6                6                 0.0       0.00   \n",
      "159521             6                6                 0.0       0.00   \n",
      "160902             6                6                 0.0       0.00   \n",
      "162585             6                6                 0.0       0.00   \n",
      "163854             6                6                 0.0       0.00   \n",
      "174785             6                6                 0.0       0.00   \n",
      "183632             6                6                 0.0       0.00   \n",
      "188369             6                6                 0.0       0.00   \n",
      "192053             6                6                 0.0       0.00   \n",
      "193897             6                6                 0.0       0.00   \n",
      "195633             6                6                 0.0       0.00   \n",
      "196936             6                6                 0.0       0.00   \n",
      "197408             6                6                 0.0       0.00   \n",
      "198194            24                6                 0.0      42.75   \n",
      "198511             6                6                 0.0       0.00   \n",
      "199729             6                6                 0.0       0.00   \n",
      "203773             6                6                 0.0       0.00   \n",
      "\n",
      "        payback90       pdate  \n",
      "35769        0.00  2016-06-12  \n",
      "49751        0.00  2016-06-20  \n",
      "51852        0.00  2016-06-10  \n",
      "57581        0.00  2016-07-09  \n",
      "68296        0.00  2016-06-02  \n",
      "90887        0.00  2016-06-09  \n",
      "94430        0.00  2016-06-03  \n",
      "98092        0.00  2016-06-12  \n",
      "111140       0.00  2016-07-06  \n",
      "124619       0.00  2016-06-10  \n",
      "135203       0.00  2016-06-06  \n",
      "137416       0.00  2016-06-25  \n",
      "138582       0.00  2016-06-27  \n",
      "151181       0.00  2016-06-11  \n",
      "151753       0.00  2016-06-03  \n",
      "159521       0.00  2016-07-04  \n",
      "160902       0.00  2016-06-07  \n",
      "162585       0.00  2016-06-05  \n",
      "163854       0.00  2016-06-15  \n",
      "174785       0.00  2016-06-03  \n",
      "183632       0.00  2016-06-05  \n",
      "188369       0.00  2016-06-14  \n",
      "192053       0.00  2016-06-12  \n",
      "193897       0.00  2016-06-07  \n",
      "195633       0.00  2016-08-17  \n",
      "196936       0.00  2016-06-08  \n",
      "197408       0.00  2016-07-04  \n",
      "198194      42.75  2016-07-23  \n",
      "198511       0.00  2016-06-26  \n",
      "199729       0.00  2016-06-09  \n",
      "203773       0.00  2016-06-02  \n",
      "\n",
      "[31 rows x 34 columns] (31, 34)\n"
     ]
    }
   ],
   "source": [
    "# Select duplicate rows \n",
    "duplicateRowsDF = df[df.duplicated()]\n",
    "print(\"Duplicate Rows except first occurrence based on all columns are :\")\n",
    "print(duplicateRowsDF,duplicateRowsDF.shape)"
   ]
  },
  {
   "cell_type": "code",
   "execution_count": 6,
   "metadata": {},
   "outputs": [
    {
     "name": "stdout",
     "output_type": "stream",
     "text": [
      "Duplicate Rows except first occurrence based on all columns are :\n",
      "Empty DataFrame\n",
      "Columns: [label, aon, daily_decr30, daily_decr90, rental30, rental90, last_rech_date_ma, last_rech_date_da, last_rech_amt_ma, cnt_ma_rech30, fr_ma_rech30, sumamnt_ma_rech30, medianamnt_ma_rech30, medianmarechprebal30, cnt_ma_rech90, fr_ma_rech90, sumamnt_ma_rech90, medianamnt_ma_rech90, medianmarechprebal90, cnt_da_rech30, fr_da_rech30, cnt_da_rech90, fr_da_rech90, cnt_loans30, amnt_loans30, maxamnt_loans30, medianamnt_loans30, cnt_loans90, amnt_loans90, maxamnt_loans90, medianamnt_loans90, payback30, payback90, pdate]\n",
      "Index: []\n",
      "\n",
      "[0 rows x 34 columns] (0, 34)\n"
     ]
    }
   ],
   "source": [
    "#Dropping duplicates\n",
    "df.drop_duplicates(inplace = True) \n",
    "#Status of duplicates after dropping\n",
    "duplicateRowsDF = df[df.duplicated()]\n",
    "print(\"Duplicate Rows except first occurrence based on all columns are :\")\n",
    "print(duplicateRowsDF,duplicateRowsDF.shape)"
   ]
  },
  {
   "cell_type": "code",
   "execution_count": 7,
   "metadata": {},
   "outputs": [
    {
     "data": {
      "text/plain": [
       "(array([], dtype=int64), array([], dtype=int64))"
      ]
     },
     "execution_count": 7,
     "metadata": {},
     "output_type": "execute_result"
    }
   ],
   "source": [
    "#https://stackoverflow.com/questions/27159189/find-empty-or-nan-entry-in-pandas-dataframe#:~:text=Check%20if%20the%20columns%20contain,for%20rows%20with%20missing%20data.\n",
    "np.where(pd.isnull(df)) "
   ]
  },
  {
   "cell_type": "markdown",
   "metadata": {},
   "source": [
    "###### From above its clear that their are no NAN none values"
   ]
  },
  {
   "cell_type": "code",
   "execution_count": 8,
   "metadata": {},
   "outputs": [],
   "source": [
    "dd = []\n",
    "mm = []\n",
    "yy = []\n",
    "for i in range(df.shape[0]):\n",
    "    yy.append(int(df['pdate'].values[i].split('-')[0]))\n",
    "    mm.append(int(df['pdate'].values[i].split('-')[1]))\n",
    "    dd.append(int(df['pdate'].values[i].split('-')[2]))\n",
    "    "
   ]
  },
  {
   "cell_type": "code",
   "execution_count": 9,
   "metadata": {},
   "outputs": [
    {
     "data": {
      "text/plain": [
       "(209562, 209562, 209562, 209562)"
      ]
     },
     "execution_count": 9,
     "metadata": {},
     "output_type": "execute_result"
    }
   ],
   "source": [
    "len(dd),len(mm),len(yy),df.shape[0]"
   ]
  },
  {
   "cell_type": "code",
   "execution_count": 10,
   "metadata": {},
   "outputs": [],
   "source": [
    "df.drop(['pdate'], axis = 1, inplace = True) "
   ]
  },
  {
   "cell_type": "code",
   "execution_count": 11,
   "metadata": {},
   "outputs": [
    {
     "data": {
      "text/html": [
       "<div>\n",
       "<style scoped>\n",
       "    .dataframe tbody tr th:only-of-type {\n",
       "        vertical-align: middle;\n",
       "    }\n",
       "\n",
       "    .dataframe tbody tr th {\n",
       "        vertical-align: top;\n",
       "    }\n",
       "\n",
       "    .dataframe thead th {\n",
       "        text-align: right;\n",
       "    }\n",
       "</style>\n",
       "<table border=\"1\" class=\"dataframe\">\n",
       "  <thead>\n",
       "    <tr style=\"text-align: right;\">\n",
       "      <th></th>\n",
       "      <th>label</th>\n",
       "      <th>aon</th>\n",
       "      <th>daily_decr30</th>\n",
       "      <th>daily_decr90</th>\n",
       "      <th>rental30</th>\n",
       "      <th>rental90</th>\n",
       "      <th>last_rech_date_ma</th>\n",
       "      <th>last_rech_date_da</th>\n",
       "      <th>last_rech_amt_ma</th>\n",
       "      <th>cnt_ma_rech30</th>\n",
       "      <th>...</th>\n",
       "      <th>medianamnt_loans30</th>\n",
       "      <th>cnt_loans90</th>\n",
       "      <th>amnt_loans90</th>\n",
       "      <th>maxamnt_loans90</th>\n",
       "      <th>medianamnt_loans90</th>\n",
       "      <th>payback30</th>\n",
       "      <th>payback90</th>\n",
       "      <th>Day</th>\n",
       "      <th>Month</th>\n",
       "      <th>Year</th>\n",
       "    </tr>\n",
       "  </thead>\n",
       "  <tbody>\n",
       "    <tr>\n",
       "      <td>0</td>\n",
       "      <td>0</td>\n",
       "      <td>272.0</td>\n",
       "      <td>3055.050000</td>\n",
       "      <td>3065.150000</td>\n",
       "      <td>220.13</td>\n",
       "      <td>260.13</td>\n",
       "      <td>2.0</td>\n",
       "      <td>0.0</td>\n",
       "      <td>1539</td>\n",
       "      <td>2</td>\n",
       "      <td>...</td>\n",
       "      <td>0.0</td>\n",
       "      <td>2.0</td>\n",
       "      <td>12</td>\n",
       "      <td>6</td>\n",
       "      <td>0.0</td>\n",
       "      <td>29.000000</td>\n",
       "      <td>29.000000</td>\n",
       "      <td>20</td>\n",
       "      <td>7</td>\n",
       "      <td>2016</td>\n",
       "    </tr>\n",
       "    <tr>\n",
       "      <td>1</td>\n",
       "      <td>1</td>\n",
       "      <td>712.0</td>\n",
       "      <td>12122.000000</td>\n",
       "      <td>12124.750000</td>\n",
       "      <td>3691.26</td>\n",
       "      <td>3691.26</td>\n",
       "      <td>20.0</td>\n",
       "      <td>0.0</td>\n",
       "      <td>5787</td>\n",
       "      <td>1</td>\n",
       "      <td>...</td>\n",
       "      <td>0.0</td>\n",
       "      <td>1.0</td>\n",
       "      <td>12</td>\n",
       "      <td>12</td>\n",
       "      <td>0.0</td>\n",
       "      <td>0.000000</td>\n",
       "      <td>0.000000</td>\n",
       "      <td>10</td>\n",
       "      <td>8</td>\n",
       "      <td>2016</td>\n",
       "    </tr>\n",
       "    <tr>\n",
       "      <td>2</td>\n",
       "      <td>1</td>\n",
       "      <td>535.0</td>\n",
       "      <td>1398.000000</td>\n",
       "      <td>1398.000000</td>\n",
       "      <td>900.13</td>\n",
       "      <td>900.13</td>\n",
       "      <td>3.0</td>\n",
       "      <td>0.0</td>\n",
       "      <td>1539</td>\n",
       "      <td>1</td>\n",
       "      <td>...</td>\n",
       "      <td>0.0</td>\n",
       "      <td>1.0</td>\n",
       "      <td>6</td>\n",
       "      <td>6</td>\n",
       "      <td>0.0</td>\n",
       "      <td>0.000000</td>\n",
       "      <td>0.000000</td>\n",
       "      <td>19</td>\n",
       "      <td>8</td>\n",
       "      <td>2016</td>\n",
       "    </tr>\n",
       "    <tr>\n",
       "      <td>3</td>\n",
       "      <td>1</td>\n",
       "      <td>241.0</td>\n",
       "      <td>21.228000</td>\n",
       "      <td>21.228000</td>\n",
       "      <td>159.42</td>\n",
       "      <td>159.42</td>\n",
       "      <td>41.0</td>\n",
       "      <td>0.0</td>\n",
       "      <td>947</td>\n",
       "      <td>0</td>\n",
       "      <td>...</td>\n",
       "      <td>0.0</td>\n",
       "      <td>2.0</td>\n",
       "      <td>12</td>\n",
       "      <td>6</td>\n",
       "      <td>0.0</td>\n",
       "      <td>0.000000</td>\n",
       "      <td>0.000000</td>\n",
       "      <td>6</td>\n",
       "      <td>6</td>\n",
       "      <td>2016</td>\n",
       "    </tr>\n",
       "    <tr>\n",
       "      <td>4</td>\n",
       "      <td>1</td>\n",
       "      <td>947.0</td>\n",
       "      <td>150.619333</td>\n",
       "      <td>150.619333</td>\n",
       "      <td>1098.90</td>\n",
       "      <td>1098.90</td>\n",
       "      <td>4.0</td>\n",
       "      <td>0.0</td>\n",
       "      <td>2309</td>\n",
       "      <td>7</td>\n",
       "      <td>...</td>\n",
       "      <td>0.0</td>\n",
       "      <td>7.0</td>\n",
       "      <td>42</td>\n",
       "      <td>6</td>\n",
       "      <td>0.0</td>\n",
       "      <td>2.333333</td>\n",
       "      <td>2.333333</td>\n",
       "      <td>22</td>\n",
       "      <td>6</td>\n",
       "      <td>2016</td>\n",
       "    </tr>\n",
       "  </tbody>\n",
       "</table>\n",
       "<p>5 rows × 36 columns</p>\n",
       "</div>"
      ],
      "text/plain": [
       "   label    aon  daily_decr30  daily_decr90  rental30  rental90  \\\n",
       "0      0  272.0   3055.050000   3065.150000    220.13    260.13   \n",
       "1      1  712.0  12122.000000  12124.750000   3691.26   3691.26   \n",
       "2      1  535.0   1398.000000   1398.000000    900.13    900.13   \n",
       "3      1  241.0     21.228000     21.228000    159.42    159.42   \n",
       "4      1  947.0    150.619333    150.619333   1098.90   1098.90   \n",
       "\n",
       "   last_rech_date_ma  last_rech_date_da  last_rech_amt_ma  cnt_ma_rech30  ...  \\\n",
       "0                2.0                0.0              1539              2  ...   \n",
       "1               20.0                0.0              5787              1  ...   \n",
       "2                3.0                0.0              1539              1  ...   \n",
       "3               41.0                0.0               947              0  ...   \n",
       "4                4.0                0.0              2309              7  ...   \n",
       "\n",
       "   medianamnt_loans30  cnt_loans90  amnt_loans90  maxamnt_loans90  \\\n",
       "0                 0.0          2.0            12                6   \n",
       "1                 0.0          1.0            12               12   \n",
       "2                 0.0          1.0             6                6   \n",
       "3                 0.0          2.0            12                6   \n",
       "4                 0.0          7.0            42                6   \n",
       "\n",
       "   medianamnt_loans90  payback30  payback90  Day  Month  Year  \n",
       "0                 0.0  29.000000  29.000000   20      7  2016  \n",
       "1                 0.0   0.000000   0.000000   10      8  2016  \n",
       "2                 0.0   0.000000   0.000000   19      8  2016  \n",
       "3                 0.0   0.000000   0.000000    6      6  2016  \n",
       "4                 0.0   2.333333   2.333333   22      6  2016  \n",
       "\n",
       "[5 rows x 36 columns]"
      ]
     },
     "execution_count": 11,
     "metadata": {},
     "output_type": "execute_result"
    }
   ],
   "source": [
    "df['Day'] = dd\n",
    "df['Month'] = mm\n",
    "df['Year'] = yy\n",
    "df.head()"
   ]
  },
  {
   "cell_type": "code",
   "execution_count": 12,
   "metadata": {},
   "outputs": [],
   "source": [
    "X = df.drop(['label'], axis = 1) \n",
    "\n",
    "Y = df.loc[:,'label']"
   ]
  },
  {
   "cell_type": "code",
   "execution_count": 13,
   "metadata": {},
   "outputs": [
    {
     "data": {
      "text/html": [
       "<div>\n",
       "<style scoped>\n",
       "    .dataframe tbody tr th:only-of-type {\n",
       "        vertical-align: middle;\n",
       "    }\n",
       "\n",
       "    .dataframe tbody tr th {\n",
       "        vertical-align: top;\n",
       "    }\n",
       "\n",
       "    .dataframe thead th {\n",
       "        text-align: right;\n",
       "    }\n",
       "</style>\n",
       "<table border=\"1\" class=\"dataframe\">\n",
       "  <thead>\n",
       "    <tr style=\"text-align: right;\">\n",
       "      <th></th>\n",
       "      <th>aon</th>\n",
       "      <th>daily_decr30</th>\n",
       "      <th>daily_decr90</th>\n",
       "      <th>rental30</th>\n",
       "      <th>rental90</th>\n",
       "      <th>last_rech_date_ma</th>\n",
       "      <th>last_rech_date_da</th>\n",
       "      <th>last_rech_amt_ma</th>\n",
       "      <th>cnt_ma_rech30</th>\n",
       "      <th>fr_ma_rech30</th>\n",
       "      <th>...</th>\n",
       "      <th>medianamnt_loans30</th>\n",
       "      <th>cnt_loans90</th>\n",
       "      <th>amnt_loans90</th>\n",
       "      <th>maxamnt_loans90</th>\n",
       "      <th>medianamnt_loans90</th>\n",
       "      <th>payback30</th>\n",
       "      <th>payback90</th>\n",
       "      <th>Day</th>\n",
       "      <th>Month</th>\n",
       "      <th>Year</th>\n",
       "    </tr>\n",
       "  </thead>\n",
       "  <tbody>\n",
       "    <tr>\n",
       "      <td>0</td>\n",
       "      <td>272.0</td>\n",
       "      <td>3055.050000</td>\n",
       "      <td>3065.150000</td>\n",
       "      <td>220.13</td>\n",
       "      <td>260.13</td>\n",
       "      <td>2.0</td>\n",
       "      <td>0.0</td>\n",
       "      <td>1539</td>\n",
       "      <td>2</td>\n",
       "      <td>21.0</td>\n",
       "      <td>...</td>\n",
       "      <td>0.0</td>\n",
       "      <td>2.0</td>\n",
       "      <td>12</td>\n",
       "      <td>6</td>\n",
       "      <td>0.0</td>\n",
       "      <td>29.000000</td>\n",
       "      <td>29.000000</td>\n",
       "      <td>20</td>\n",
       "      <td>7</td>\n",
       "      <td>2016</td>\n",
       "    </tr>\n",
       "    <tr>\n",
       "      <td>1</td>\n",
       "      <td>712.0</td>\n",
       "      <td>12122.000000</td>\n",
       "      <td>12124.750000</td>\n",
       "      <td>3691.26</td>\n",
       "      <td>3691.26</td>\n",
       "      <td>20.0</td>\n",
       "      <td>0.0</td>\n",
       "      <td>5787</td>\n",
       "      <td>1</td>\n",
       "      <td>0.0</td>\n",
       "      <td>...</td>\n",
       "      <td>0.0</td>\n",
       "      <td>1.0</td>\n",
       "      <td>12</td>\n",
       "      <td>12</td>\n",
       "      <td>0.0</td>\n",
       "      <td>0.000000</td>\n",
       "      <td>0.000000</td>\n",
       "      <td>10</td>\n",
       "      <td>8</td>\n",
       "      <td>2016</td>\n",
       "    </tr>\n",
       "    <tr>\n",
       "      <td>2</td>\n",
       "      <td>535.0</td>\n",
       "      <td>1398.000000</td>\n",
       "      <td>1398.000000</td>\n",
       "      <td>900.13</td>\n",
       "      <td>900.13</td>\n",
       "      <td>3.0</td>\n",
       "      <td>0.0</td>\n",
       "      <td>1539</td>\n",
       "      <td>1</td>\n",
       "      <td>0.0</td>\n",
       "      <td>...</td>\n",
       "      <td>0.0</td>\n",
       "      <td>1.0</td>\n",
       "      <td>6</td>\n",
       "      <td>6</td>\n",
       "      <td>0.0</td>\n",
       "      <td>0.000000</td>\n",
       "      <td>0.000000</td>\n",
       "      <td>19</td>\n",
       "      <td>8</td>\n",
       "      <td>2016</td>\n",
       "    </tr>\n",
       "    <tr>\n",
       "      <td>3</td>\n",
       "      <td>241.0</td>\n",
       "      <td>21.228000</td>\n",
       "      <td>21.228000</td>\n",
       "      <td>159.42</td>\n",
       "      <td>159.42</td>\n",
       "      <td>41.0</td>\n",
       "      <td>0.0</td>\n",
       "      <td>947</td>\n",
       "      <td>0</td>\n",
       "      <td>0.0</td>\n",
       "      <td>...</td>\n",
       "      <td>0.0</td>\n",
       "      <td>2.0</td>\n",
       "      <td>12</td>\n",
       "      <td>6</td>\n",
       "      <td>0.0</td>\n",
       "      <td>0.000000</td>\n",
       "      <td>0.000000</td>\n",
       "      <td>6</td>\n",
       "      <td>6</td>\n",
       "      <td>2016</td>\n",
       "    </tr>\n",
       "    <tr>\n",
       "      <td>4</td>\n",
       "      <td>947.0</td>\n",
       "      <td>150.619333</td>\n",
       "      <td>150.619333</td>\n",
       "      <td>1098.90</td>\n",
       "      <td>1098.90</td>\n",
       "      <td>4.0</td>\n",
       "      <td>0.0</td>\n",
       "      <td>2309</td>\n",
       "      <td>7</td>\n",
       "      <td>2.0</td>\n",
       "      <td>...</td>\n",
       "      <td>0.0</td>\n",
       "      <td>7.0</td>\n",
       "      <td>42</td>\n",
       "      <td>6</td>\n",
       "      <td>0.0</td>\n",
       "      <td>2.333333</td>\n",
       "      <td>2.333333</td>\n",
       "      <td>22</td>\n",
       "      <td>6</td>\n",
       "      <td>2016</td>\n",
       "    </tr>\n",
       "  </tbody>\n",
       "</table>\n",
       "<p>5 rows × 35 columns</p>\n",
       "</div>"
      ],
      "text/plain": [
       "     aon  daily_decr30  daily_decr90  rental30  rental90  last_rech_date_ma  \\\n",
       "0  272.0   3055.050000   3065.150000    220.13    260.13                2.0   \n",
       "1  712.0  12122.000000  12124.750000   3691.26   3691.26               20.0   \n",
       "2  535.0   1398.000000   1398.000000    900.13    900.13                3.0   \n",
       "3  241.0     21.228000     21.228000    159.42    159.42               41.0   \n",
       "4  947.0    150.619333    150.619333   1098.90   1098.90                4.0   \n",
       "\n",
       "   last_rech_date_da  last_rech_amt_ma  cnt_ma_rech30  fr_ma_rech30  ...  \\\n",
       "0                0.0              1539              2          21.0  ...   \n",
       "1                0.0              5787              1           0.0  ...   \n",
       "2                0.0              1539              1           0.0  ...   \n",
       "3                0.0               947              0           0.0  ...   \n",
       "4                0.0              2309              7           2.0  ...   \n",
       "\n",
       "   medianamnt_loans30  cnt_loans90  amnt_loans90  maxamnt_loans90  \\\n",
       "0                 0.0          2.0            12                6   \n",
       "1                 0.0          1.0            12               12   \n",
       "2                 0.0          1.0             6                6   \n",
       "3                 0.0          2.0            12                6   \n",
       "4                 0.0          7.0            42                6   \n",
       "\n",
       "   medianamnt_loans90  payback30  payback90  Day  Month  Year  \n",
       "0                 0.0  29.000000  29.000000   20      7  2016  \n",
       "1                 0.0   0.000000   0.000000   10      8  2016  \n",
       "2                 0.0   0.000000   0.000000   19      8  2016  \n",
       "3                 0.0   0.000000   0.000000    6      6  2016  \n",
       "4                 0.0   2.333333   2.333333   22      6  2016  \n",
       "\n",
       "[5 rows x 35 columns]"
      ]
     },
     "execution_count": 13,
     "metadata": {},
     "output_type": "execute_result"
    }
   ],
   "source": [
    "X.head()"
   ]
  },
  {
   "cell_type": "code",
   "execution_count": 14,
   "metadata": {},
   "outputs": [
    {
     "data": {
      "text/plain": [
       "0    0\n",
       "1    1\n",
       "2    1\n",
       "3    1\n",
       "4    1\n",
       "Name: label, dtype: int64"
      ]
     },
     "execution_count": 14,
     "metadata": {},
     "output_type": "execute_result"
    }
   ],
   "source": [
    "Y.head(5)"
   ]
  },
  {
   "cell_type": "code",
   "execution_count": 15,
   "metadata": {},
   "outputs": [
    {
     "data": {
      "text/plain": [
       "((209562, 35), (209562,))"
      ]
     },
     "execution_count": 15,
     "metadata": {},
     "output_type": "execute_result"
    }
   ],
   "source": [
    "X.shape,Y.shape"
   ]
  },
  {
   "cell_type": "code",
   "execution_count": 16,
   "metadata": {},
   "outputs": [],
   "source": [
    "X_train, X_test, y_train, y_test=train_test_split(X, Y, test_size=0.3, stratify=Y)\n",
    "X_train, X_cv, y_train, y_cv=train_test_split(X_train, y_train, test_size=0.2, stratify=y_train)"
   ]
  },
  {
   "cell_type": "code",
   "execution_count": 17,
   "metadata": {},
   "outputs": [
    {
     "name": "stdout",
     "output_type": "stream",
     "text": [
      "Train shape: (117354, 35)\n",
      "Cross validate shape: (29339, 35)\n",
      "test shape: (62869, 35)\n"
     ]
    }
   ],
   "source": [
    "print('Train shape:', X_train.shape)\n",
    "print('Cross validate shape:',X_cv.shape )\n",
    "print('test shape:',X_test.shape )"
   ]
  },
  {
   "cell_type": "code",
   "execution_count": 18,
   "metadata": {},
   "outputs": [],
   "source": [
    "scaler = MinMaxScaler()\n",
    "x_scaled = scaler.fit_transform(X_train)\n",
    "X_train = pd.DataFrame(x_scaled)"
   ]
  },
  {
   "cell_type": "code",
   "execution_count": 19,
   "metadata": {},
   "outputs": [
    {
     "data": {
      "text/html": [
       "<div>\n",
       "<style scoped>\n",
       "    .dataframe tbody tr th:only-of-type {\n",
       "        vertical-align: middle;\n",
       "    }\n",
       "\n",
       "    .dataframe tbody tr th {\n",
       "        vertical-align: top;\n",
       "    }\n",
       "\n",
       "    .dataframe thead th {\n",
       "        text-align: right;\n",
       "    }\n",
       "</style>\n",
       "<table border=\"1\" class=\"dataframe\">\n",
       "  <thead>\n",
       "    <tr style=\"text-align: right;\">\n",
       "      <th></th>\n",
       "      <th>0</th>\n",
       "      <th>1</th>\n",
       "      <th>2</th>\n",
       "      <th>3</th>\n",
       "      <th>4</th>\n",
       "      <th>5</th>\n",
       "      <th>6</th>\n",
       "      <th>7</th>\n",
       "      <th>8</th>\n",
       "      <th>9</th>\n",
       "      <th>...</th>\n",
       "      <th>25</th>\n",
       "      <th>26</th>\n",
       "      <th>27</th>\n",
       "      <th>28</th>\n",
       "      <th>29</th>\n",
       "      <th>30</th>\n",
       "      <th>31</th>\n",
       "      <th>32</th>\n",
       "      <th>33</th>\n",
       "      <th>34</th>\n",
       "    </tr>\n",
       "  </thead>\n",
       "  <tbody>\n",
       "    <tr>\n",
       "      <td>0</td>\n",
       "      <td>0.000518</td>\n",
       "      <td>0.010412</td>\n",
       "      <td>0.008673</td>\n",
       "      <td>0.108854</td>\n",
       "      <td>0.112360</td>\n",
       "      <td>0.000031</td>\n",
       "      <td>0.000027</td>\n",
       "      <td>0.014055</td>\n",
       "      <td>0.039409</td>\n",
       "      <td>0.000002</td>\n",
       "      <td>...</td>\n",
       "      <td>0.0</td>\n",
       "      <td>0.001402</td>\n",
       "      <td>0.102941</td>\n",
       "      <td>0.5</td>\n",
       "      <td>0.0</td>\n",
       "      <td>0.01516</td>\n",
       "      <td>0.015549</td>\n",
       "      <td>0.066667</td>\n",
       "      <td>0.5</td>\n",
       "      <td>0.0</td>\n",
       "    </tr>\n",
       "    <tr>\n",
       "      <td>1</td>\n",
       "      <td>0.001905</td>\n",
       "      <td>0.021250</td>\n",
       "      <td>0.022273</td>\n",
       "      <td>0.108437</td>\n",
       "      <td>0.113881</td>\n",
       "      <td>0.000037</td>\n",
       "      <td>0.000027</td>\n",
       "      <td>0.027982</td>\n",
       "      <td>0.009852</td>\n",
       "      <td>0.000007</td>\n",
       "      <td>...</td>\n",
       "      <td>0.0</td>\n",
       "      <td>0.001001</td>\n",
       "      <td>0.073529</td>\n",
       "      <td>0.5</td>\n",
       "      <td>0.0</td>\n",
       "      <td>0.00000</td>\n",
       "      <td>0.033528</td>\n",
       "      <td>0.033333</td>\n",
       "      <td>1.0</td>\n",
       "      <td>0.0</td>\n",
       "    </tr>\n",
       "    <tr>\n",
       "      <td>2</td>\n",
       "      <td>0.002008</td>\n",
       "      <td>0.000349</td>\n",
       "      <td>0.000290</td>\n",
       "      <td>0.106606</td>\n",
       "      <td>0.109933</td>\n",
       "      <td>0.000029</td>\n",
       "      <td>0.000027</td>\n",
       "      <td>0.000000</td>\n",
       "      <td>0.000000</td>\n",
       "      <td>0.000000</td>\n",
       "      <td>...</td>\n",
       "      <td>0.0</td>\n",
       "      <td>0.000200</td>\n",
       "      <td>0.014706</td>\n",
       "      <td>0.5</td>\n",
       "      <td>0.0</td>\n",
       "      <td>0.00000</td>\n",
       "      <td>0.000000</td>\n",
       "      <td>0.266667</td>\n",
       "      <td>0.0</td>\n",
       "      <td>0.0</td>\n",
       "    </tr>\n",
       "    <tr>\n",
       "      <td>3</td>\n",
       "      <td>0.000232</td>\n",
       "      <td>0.023604</td>\n",
       "      <td>0.019578</td>\n",
       "      <td>0.126258</td>\n",
       "      <td>0.145054</td>\n",
       "      <td>0.000040</td>\n",
       "      <td>0.000027</td>\n",
       "      <td>0.073600</td>\n",
       "      <td>0.009852</td>\n",
       "      <td>0.000000</td>\n",
       "      <td>...</td>\n",
       "      <td>0.0</td>\n",
       "      <td>0.000200</td>\n",
       "      <td>0.014706</td>\n",
       "      <td>0.5</td>\n",
       "      <td>0.0</td>\n",
       "      <td>0.00000</td>\n",
       "      <td>0.000000</td>\n",
       "      <td>0.966667</td>\n",
       "      <td>0.5</td>\n",
       "      <td>0.0</td>\n",
       "    </tr>\n",
       "    <tr>\n",
       "      <td>4</td>\n",
       "      <td>0.000930</td>\n",
       "      <td>0.008545</td>\n",
       "      <td>0.010497</td>\n",
       "      <td>0.125078</td>\n",
       "      <td>0.127536</td>\n",
       "      <td>0.000035</td>\n",
       "      <td>0.000027</td>\n",
       "      <td>0.027982</td>\n",
       "      <td>0.004926</td>\n",
       "      <td>0.000000</td>\n",
       "      <td>...</td>\n",
       "      <td>0.0</td>\n",
       "      <td>0.000401</td>\n",
       "      <td>0.029412</td>\n",
       "      <td>0.5</td>\n",
       "      <td>0.0</td>\n",
       "      <td>0.00000</td>\n",
       "      <td>0.221574</td>\n",
       "      <td>0.066667</td>\n",
       "      <td>1.0</td>\n",
       "      <td>0.0</td>\n",
       "    </tr>\n",
       "  </tbody>\n",
       "</table>\n",
       "<p>5 rows × 35 columns</p>\n",
       "</div>"
      ],
      "text/plain": [
       "         0         1         2         3         4         5         6   \\\n",
       "0  0.000518  0.010412  0.008673  0.108854  0.112360  0.000031  0.000027   \n",
       "1  0.001905  0.021250  0.022273  0.108437  0.113881  0.000037  0.000027   \n",
       "2  0.002008  0.000349  0.000290  0.106606  0.109933  0.000029  0.000027   \n",
       "3  0.000232  0.023604  0.019578  0.126258  0.145054  0.000040  0.000027   \n",
       "4  0.000930  0.008545  0.010497  0.125078  0.127536  0.000035  0.000027   \n",
       "\n",
       "         7         8         9   ...   25        26        27   28   29  \\\n",
       "0  0.014055  0.039409  0.000002  ...  0.0  0.001402  0.102941  0.5  0.0   \n",
       "1  0.027982  0.009852  0.000007  ...  0.0  0.001001  0.073529  0.5  0.0   \n",
       "2  0.000000  0.000000  0.000000  ...  0.0  0.000200  0.014706  0.5  0.0   \n",
       "3  0.073600  0.009852  0.000000  ...  0.0  0.000200  0.014706  0.5  0.0   \n",
       "4  0.027982  0.004926  0.000000  ...  0.0  0.000401  0.029412  0.5  0.0   \n",
       "\n",
       "        30        31        32   33   34  \n",
       "0  0.01516  0.015549  0.066667  0.5  0.0  \n",
       "1  0.00000  0.033528  0.033333  1.0  0.0  \n",
       "2  0.00000  0.000000  0.266667  0.0  0.0  \n",
       "3  0.00000  0.000000  0.966667  0.5  0.0  \n",
       "4  0.00000  0.221574  0.066667  1.0  0.0  \n",
       "\n",
       "[5 rows x 35 columns]"
      ]
     },
     "execution_count": 19,
     "metadata": {},
     "output_type": "execute_result"
    }
   ],
   "source": [
    "X_train.head()"
   ]
  },
  {
   "cell_type": "code",
   "execution_count": 20,
   "metadata": {},
   "outputs": [],
   "source": [
    "x_scaled = scaler.transform(X_cv)\n",
    "X_cv = pd.DataFrame(x_scaled)"
   ]
  },
  {
   "cell_type": "code",
   "execution_count": 21,
   "metadata": {},
   "outputs": [],
   "source": [
    "\n",
    "x_scaled = scaler.transform(X_test)\n",
    "X_test = pd.DataFrame(x_scaled)"
   ]
  },
  {
   "cell_type": "markdown",
   "metadata": {},
   "source": [
    "# The loss which I choose to minimize is log-loss I will give below justifications why log-loss?\n",
    "1. Dataset is imbalanced.\n",
    "2. If class label is say '1', then we want our model P(Y=1|x) should be close enough to '1'in other words we need to penalize probability scores also and logloss excatly does it. "
   ]
  },
  {
   "cell_type": "markdown",
   "metadata": {},
   "source": [
    "# Building maching learning models"
   ]
  },
  {
   "cell_type": "markdown",
   "metadata": {},
   "source": [
    "# K-NN"
   ]
  },
  {
   "cell_type": "code",
   "execution_count": 35,
   "metadata": {},
   "outputs": [
    {
     "name": "stderr",
     "output_type": "stream",
     "text": [
      "100%|███████████████████████████████████████████████████████████████████████████████| 12/12 [3:12:16<00:00, 961.34s/it]\n"
     ]
    }
   ],
   "source": [
    "alpha = [x for x in range(1, 112,10)]\n",
    "cv_log_error_array=[]\n",
    "for i in tqdm(alpha):\n",
    "    k_cfl=KNeighborsClassifier(n_neighbors=i,n_jobs = -1)\n",
    "    k_cfl.fit(X_train,y_train)\n",
    "    sig_clf = CalibratedClassifierCV(k_cfl, method=\"sigmoid\")\n",
    "    sig_clf.fit(X_train, y_train)\n",
    "    predict_y = sig_clf.predict_proba(X_cv)\n",
    "    cv_log_error_array.append(log_loss(y_cv, predict_y, labels=k_cfl.classes_, eps=1e-15))\n",
    "    \n",
    "\n"
   ]
  },
  {
   "cell_type": "code",
   "execution_count": 36,
   "metadata": {},
   "outputs": [
    {
     "name": "stdout",
     "output_type": "stream",
     "text": [
      "log_loss for k =  1 is 0.3237706293042584\n",
      "log_loss for k =  11 is 0.27792200315312576\n",
      "log_loss for k =  21 is 0.2757627996125274\n",
      "log_loss for k =  31 is 0.2748891528861179\n",
      "log_loss for k =  41 is 0.2744119912269251\n",
      "log_loss for k =  51 is 0.27390889567316623\n",
      "log_loss for k =  61 is 0.27375227195599944\n",
      "log_loss for k =  71 is 0.27384826143413415\n",
      "log_loss for k =  81 is 0.27417219137068133\n",
      "log_loss for k =  91 is 0.27452009874898187\n",
      "log_loss for k =  101 is 0.2749181611137194\n",
      "log_loss for k =  111 is 0.2750130490208926\n",
      "Best value of K= 61\n"
     ]
    }
   ],
   "source": [
    "for i in range(len(cv_log_error_array)):\n",
    "    print ('log_loss for k = ',alpha[i],'is',cv_log_error_array[i])\n",
    "\n",
    "best_alpha = np.argmin(cv_log_error_array)\n",
    "    \n",
    "print(\"Best value of K=\",alpha[best_alpha])"
   ]
  },
  {
   "cell_type": "code",
   "execution_count": 37,
   "metadata": {},
   "outputs": [
    {
     "name": "stdout",
     "output_type": "stream",
     "text": [
      "log loss for train data 0.2664619518152901\n",
      "log loss for cv data 0.27375227195599944\n",
      "log loss for test data 0.2713029260674443\n"
     ]
    }
   ],
   "source": [
    "k_cfl=KNeighborsClassifier(n_neighbors=alpha[best_alpha],n_jobs = -1)\n",
    "k_cfl.fit(X_train,y_train)\n",
    "sig_clf = CalibratedClassifierCV(k_cfl, method=\"sigmoid\")\n",
    "sig_clf.fit(X_train, y_train)\n",
    "pred_y=sig_clf.predict(X_test)\n",
    "\n",
    "\n",
    "predict_y = sig_clf.predict_proba(X_train)\n",
    "print ('log loss for train data',log_loss(y_train, predict_y))\n",
    "predict_y = sig_clf.predict_proba(X_cv)\n",
    "print ('log loss for cv data',log_loss(y_cv, predict_y))\n",
    "predict_y = sig_clf.predict_proba(X_test)\n",
    "print ('log loss for test data',log_loss(y_test, predict_y))"
   ]
  },
  {
   "cell_type": "code",
   "execution_count": 38,
   "metadata": {},
   "outputs": [
    {
     "data": {
      "text/plain": [
       "['KNN.pkl']"
      ]
     },
     "execution_count": 38,
     "metadata": {},
     "output_type": "execute_result"
    }
   ],
   "source": [
    "# Save the model as a pickle in a file \n",
    "joblib.dump(sig_clf, 'KNN.pkl') \n",
    "  \n",
    "# Load the model from the file \n",
    "#knn_from_joblib = joblib.load('filename.pkl') "
   ]
  },
  {
   "cell_type": "markdown",
   "metadata": {},
   "source": [
    "# LogisticRegression"
   ]
  },
  {
   "cell_type": "code",
   "execution_count": 22,
   "metadata": {},
   "outputs": [
    {
     "name": "stderr",
     "output_type": "stream",
     "text": [
      "100%|███████████████████████████████████████████████████████████████████████████████████| 9/9 [19:13<00:00, 128.11s/it]\n"
     ]
    }
   ],
   "source": [
    "alpha = [10 ** x for x in range(-5, 4)]\n",
    "cv_log_error_array=[]\n",
    "for i in tqdm(alpha):\n",
    "    logisticR=LogisticRegression(penalty='l2',C=i,class_weight='balanced',n_jobs = -1)\n",
    "    logisticR.fit(X_train,y_train)\n",
    "    sig_clf = CalibratedClassifierCV(logisticR, method=\"sigmoid\")\n",
    "    sig_clf.fit(X_train, y_train)\n",
    "    predict_y = sig_clf.predict_proba(X_cv)\n",
    "    cv_log_error_array.append(log_loss(y_cv, predict_y, labels=logisticR.classes_, eps=1e-15))\n",
    "    \n"
   ]
  },
  {
   "cell_type": "code",
   "execution_count": 23,
   "metadata": {},
   "outputs": [
    {
     "name": "stdout",
     "output_type": "stream",
     "text": [
      "log_loss for c =  1e-05 is 0.3567824833928973\n",
      "log_loss for c =  0.0001 is 0.3556054507677887\n",
      "log_loss for c =  0.001 is 0.3477645314426088\n",
      "log_loss for c =  0.01 is 0.32310193309676216\n",
      "log_loss for c =  0.1 is 0.30518750961663155\n",
      "log_loss for c =  1 is 0.2980549089802739\n",
      "log_loss for c =  10 is 0.29849799229458107\n",
      "log_loss for c =  100 is 0.29826560709052125\n",
      "log_loss for c =  1000 is 0.29919297958415964\n"
     ]
    }
   ],
   "source": [
    "for i in range(len(cv_log_error_array)):\n",
    "    print ('log_loss for c = ',alpha[i],'is',cv_log_error_array[i])\n",
    "\n",
    "best_alpha = np.argmin(cv_log_error_array)\n",
    "    \n",
    "\n",
    "\n"
   ]
  },
  {
   "cell_type": "code",
   "execution_count": 25,
   "metadata": {},
   "outputs": [
    {
     "name": "stdout",
     "output_type": "stream",
     "text": [
      "best value of C: 1\n",
      "log loss for train data 0.299492604550692\n",
      "log loss for cv data 0.2980549089802739\n",
      "log loss for test data 0.2967357484373374\n"
     ]
    }
   ],
   "source": [
    "print(\"best value of C:\",alpha[best_alpha])\n",
    "logisticR=LogisticRegression(penalty='l2',C=alpha[best_alpha],class_weight='balanced',n_jobs = -1)\n",
    "logisticR.fit(X_train,y_train)\n",
    "sig_clf = CalibratedClassifierCV(logisticR, method=\"sigmoid\")\n",
    "sig_clf.fit(X_train, y_train)\n",
    "pred_y=sig_clf.predict(X_test)\n",
    "\n",
    "predict_y = sig_clf.predict_proba(X_train)\n",
    "print ('log loss for train data',log_loss(y_train, predict_y, labels=logisticR.classes_, eps=1e-15))\n",
    "predict_y = sig_clf.predict_proba(X_cv)\n",
    "print ('log loss for cv data',log_loss(y_cv, predict_y, labels=logisticR.classes_, eps=1e-15))\n",
    "predict_y = sig_clf.predict_proba(X_test)\n",
    "print ('log loss for test data',log_loss(y_test, predict_y, labels=logisticR.classes_, eps=1e-15))"
   ]
  },
  {
   "cell_type": "code",
   "execution_count": 27,
   "metadata": {},
   "outputs": [
    {
     "data": {
      "text/plain": [
       "['LogisticReg.pkl']"
      ]
     },
     "execution_count": 27,
     "metadata": {},
     "output_type": "execute_result"
    }
   ],
   "source": [
    "# Save the model as a pickle in a file \n",
    "joblib.dump(sig_clf, 'LogisticReg.pkl') \n",
    "  \n",
    "# Load the model from the file \n",
    "#knn_from_joblib = joblib.load('filename.pkl') "
   ]
  },
  {
   "cell_type": "markdown",
   "metadata": {},
   "source": [
    "# RandomForest"
   ]
  },
  {
   "cell_type": "code",
   "execution_count": 30,
   "metadata": {},
   "outputs": [
    {
     "name": "stderr",
     "output_type": "stream",
     "text": [
      "100%|████████████████████████████████████████████████████████████████████████████████| 7/7 [5:53:33<00:00, 3030.47s/it]\n"
     ]
    }
   ],
   "source": [
    "alpha=[10,50,100,500,1000,2000,3000]\n",
    "cv_log_error_array=[]\n",
    "train_log_error_array=[]\n",
    "for i in tqdm(alpha):\n",
    "    r_cfl=RandomForestClassifier(n_estimators=i,n_jobs=-1)\n",
    "    r_cfl.fit(X_train,y_train)\n",
    "    sig_clf = CalibratedClassifierCV(r_cfl, method=\"sigmoid\")\n",
    "    sig_clf.fit(X_train, y_train)\n",
    "    predict_y = sig_clf.predict_proba(X_cv)\n",
    "    cv_log_error_array.append(log_loss(y_cv, predict_y, labels=r_cfl.classes_, eps=1e-15))\n",
    "\n"
   ]
  },
  {
   "cell_type": "code",
   "execution_count": 31,
   "metadata": {},
   "outputs": [
    {
     "name": "stdout",
     "output_type": "stream",
     "text": [
      "log_loss for c =  10 is 0.2182014315616614\n",
      "log_loss for c =  50 is 0.21530736355676566\n",
      "log_loss for c =  100 is 0.2156391154226347\n",
      "log_loss for c =  500 is 0.21523965646775692\n",
      "log_loss for c =  1000 is 0.2152805886413863\n",
      "log_loss for c =  2000 is 0.2153108934067022\n",
      "log_loss for c =  3000 is 0.21533023833484888\n",
      "best value of no of estimators: 500\n"
     ]
    }
   ],
   "source": [
    "for i in range(len(cv_log_error_array)):\n",
    "    print ('log_loss for c = ',alpha[i],'is',cv_log_error_array[i])\n",
    "\n",
    "\n",
    "best_alpha = np.argmin(cv_log_error_array)\n",
    "print(\"best value of no of estimators:\",alpha[best_alpha])\n"
   ]
  },
  {
   "cell_type": "code",
   "execution_count": 32,
   "metadata": {},
   "outputs": [
    {
     "name": "stdout",
     "output_type": "stream",
     "text": [
      "For values of best alpha =  500 The train log loss is: 0.06250020350570407\n",
      "For values of best alpha =  500 The cross validation log loss is: 0.21525941810920668\n",
      "For values of best alpha =  500 The test log loss is: 0.21035609653243953\n"
     ]
    }
   ],
   "source": [
    "r_cfl=RandomForestClassifier(n_estimators=alpha[best_alpha],n_jobs=-1)\n",
    "r_cfl.fit(X_train,y_train)\n",
    "sig_clf = CalibratedClassifierCV(r_cfl, method=\"sigmoid\")\n",
    "sig_clf.fit(X_train, y_train)\n",
    "\n",
    "predict_y = sig_clf.predict_proba(X_train)\n",
    "print('For values of best alpha = ', alpha[best_alpha], \"The train log loss is:\",log_loss(y_train, predict_y))\n",
    "predict_y = sig_clf.predict_proba(X_cv)\n",
    "print('For values of best alpha = ', alpha[best_alpha], \"The cross validation log loss is:\",log_loss(y_cv, predict_y))\n",
    "predict_y = sig_clf.predict_proba(X_test)\n",
    "print('For values of best alpha = ', alpha[best_alpha], \"The test log loss is:\",log_loss(y_test, predict_y))"
   ]
  },
  {
   "cell_type": "code",
   "execution_count": 33,
   "metadata": {},
   "outputs": [
    {
     "data": {
      "text/plain": [
       "['RandomForest.pkl']"
      ]
     },
     "execution_count": 33,
     "metadata": {},
     "output_type": "execute_result"
    }
   ],
   "source": [
    "# Save the model as a pickle in a file \n",
    "joblib.dump(sig_clf, 'RandomForest.pkl') \n",
    "  \n",
    "# Load the model from the file \n",
    "#knn_from_joblib = joblib.load('filename.pkl') "
   ]
  },
  {
   "cell_type": "markdown",
   "metadata": {},
   "source": [
    "# Boosting"
   ]
  },
  {
   "cell_type": "code",
   "execution_count": null,
   "metadata": {},
   "outputs": [],
   "source": [
    "    r_cfl=RandomForestClassifier(n_estimators=i,n_jobs=-1)\n",
    "    r_cfl.fit(X_train,y_train)\n",
    "    sig_clf = CalibratedClassifierCV(r_cfl, method=\"sigmoid\")\n",
    "    sig_clf.fit(X_train, y_train)\n",
    "    predict_y = sig_clf.predict_proba(X_cv)\n",
    "    cv_log_error_array.append(log_loss(y_cv, predict_y, labels=r_cfl.classes_, eps=1e-15))\n"
   ]
  },
  {
   "cell_type": "code",
   "execution_count": 42,
   "metadata": {},
   "outputs": [
    {
     "name": "stderr",
     "output_type": "stream",
     "text": [
      "100%|████████████████████████████████████████████████████████████████████████████████| 6/6 [1:55:23<00:00, 1153.89s/it]\n"
     ]
    }
   ],
   "source": [
    "X = []\n",
    "Y = []\n",
    "for max_depth in  tqdm([2, 5, 10 ,15,20,25]):\n",
    "    for n_estimators in [5, 15,50,100,500,1000,2000,3000]:\n",
    "        X.append(max_depth)\n",
    "        Y.append(n_estimators)\n",
    "        r_cfl =  lgb.LGBMClassifier(max_depth = max_depth,n_estimators = n_estimators,n_jobs = -1 )\n",
    "        r_cfl.fit(X_train, y_train)\n",
    "        sig_clf = CalibratedClassifierCV(r_cfl, method=\"sigmoid\")\n",
    "        sig_clf.fit(X_train, y_train)\n",
    "        predict_y = sig_clf.predict_proba(X_cv)\n",
    "        cv_log_error_array.append(log_loss(y_cv, predict_y, labels=r_cfl.classes_, eps=1e-15))\n"
   ]
  },
  {
   "cell_type": "code",
   "execution_count": 43,
   "metadata": {},
   "outputs": [
    {
     "name": "stdout",
     "output_type": "stream",
     "text": [
      "BEST PARAM FOR WHICH Log loss min is:\n",
      "Max Depth 15 n_estimators 500 Test score 0.20697170106770077\n"
     ]
    }
   ],
   "source": [
    "index = np.argmin(cv_log_error_array)\n",
    "print(\"BEST PARAM FOR WHICH Log loss min is:\" )\n",
    "print(\"Max Depth\",X[index],\"n_estimators\",Y[index],\"Test score\",cv_log_error_array[index])"
   ]
  },
  {
   "cell_type": "code",
   "execution_count": 45,
   "metadata": {},
   "outputs": [],
   "source": [
    "x_cfl=lgb.LGBMClassifier(max_depth = X[index],n_estimators = Y[index],n_jobs = -1 )\n",
    "x_cfl.fit(X_train,y_train)\n",
    "sig_clf = CalibratedClassifierCV(x_cfl, method=\"sigmoid\")\n",
    "sig_clf.fit(X_train, y_train)\n",
    "    \n"
   ]
  },
  {
   "cell_type": "code",
   "execution_count": 46,
   "metadata": {},
   "outputs": [
    {
     "name": "stdout",
     "output_type": "stream",
     "text": [
      "The train log loss is: 0.13883641817942305\n",
      "The cross validation log loss is: 0.20697170106770077\n",
      "The test log loss is: 0.2030241507440118\n"
     ]
    }
   ],
   "source": [
    "predict_y = sig_clf.predict_proba(X_train)\n",
    "print (\"The train log loss is:\",log_loss(y_train, predict_y))\n",
    "predict_y = sig_clf.predict_proba(X_cv)\n",
    "print(\"The cross validation log loss is:\",log_loss(y_cv, predict_y))\n",
    "predict_y = sig_clf.predict_proba(X_test)\n",
    "print( \"The test log loss is:\",log_loss(y_test, predict_y))"
   ]
  },
  {
   "cell_type": "code",
   "execution_count": 47,
   "metadata": {},
   "outputs": [
    {
     "data": {
      "text/plain": [
       "['Boosting.pkl']"
      ]
     },
     "execution_count": 47,
     "metadata": {},
     "output_type": "execute_result"
    }
   ],
   "source": [
    "# Save the model as a pickle in a file \n",
    "joblib.dump(sig_clf, 'Boosting.pkl') \n",
    "  \n",
    "# Load the model from the file \n",
    "#knn_from_joblib = joblib.load('filename.pkl') "
   ]
  },
  {
   "cell_type": "markdown",
   "metadata": {},
   "source": [
    "# Summary"
   ]
  },
  {
   "cell_type": "code",
   "execution_count": 49,
   "metadata": {},
   "outputs": [
    {
     "name": "stdout",
     "output_type": "stream",
     "text": [
      "+---------------------+----------------+---------------------------+---------------+\n",
      "|      Best Model     | Train log loss | Cross validation log loss | Test log loss |\n",
      "+---------------------+----------------+---------------------------+---------------+\n",
      "| K nearest neighbour |      0.26      |            0.27           |      0.27     |\n",
      "| Logistic regression |      0.29      |            0.29           |      0.29     |\n",
      "|    Random forest    |      0.06      |            0.21           |      0.21     |\n",
      "|       Boosting      |      0.13      |            0.2            |      0.2      |\n",
      "+---------------------+----------------+---------------------------+---------------+\n"
     ]
    }
   ],
   "source": [
    "from prettytable import PrettyTable\n",
    "    \n",
    "x = PrettyTable()\n",
    "\n",
    "x.field_names = [\"Best Model\", \"Train log loss\", \"Cross validation log loss\", \"Test log loss\"]\n",
    "\n",
    "x.add_row([\"K nearest neighbour\",0.26,0.27,0.27 ])\n",
    "x.add_row([\"Logistic regression\",0.29,0.29,0.29 ])\n",
    "x.add_row([\"Random forest\",0.06,0.21,0.21 ])\n",
    "x.add_row([\"Boosting\",0.13,0.20,0.20 ])\n",
    "print(x)"
   ]
  },
  {
   "cell_type": "markdown",
   "metadata": {},
   "source": [
    "### From above \"Boosting\" seems to work the best and also notice random forest is over fitting."
   ]
  },
  {
   "cell_type": "markdown",
   "metadata": {},
   "source": [
    "# Generate P(yi=1|xi) for each of the test data and storing it in result file"
   ]
  },
  {
   "cell_type": "code",
   "execution_count": 54,
   "metadata": {},
   "outputs": [
    {
     "data": {
      "text/plain": [
       "((62869, 2), (62869,), numpy.ndarray, numpy.ndarray)"
      ]
     },
     "execution_count": 54,
     "metadata": {},
     "output_type": "execute_result"
    }
   ],
   "source": [
    "predict_y.shape,y_test.shape,type(predict_y),type(predict_y)"
   ]
  },
  {
   "cell_type": "code",
   "execution_count": 67,
   "metadata": {},
   "outputs": [
    {
     "data": {
      "text/html": [
       "<div>\n",
       "<style scoped>\n",
       "    .dataframe tbody tr th:only-of-type {\n",
       "        vertical-align: middle;\n",
       "    }\n",
       "\n",
       "    .dataframe tbody tr th {\n",
       "        vertical-align: top;\n",
       "    }\n",
       "\n",
       "    .dataframe thead th {\n",
       "        text-align: right;\n",
       "    }\n",
       "</style>\n",
       "<table border=\"1\" class=\"dataframe\">\n",
       "  <thead>\n",
       "    <tr style=\"text-align: right;\">\n",
       "      <th></th>\n",
       "      <th>yi</th>\n",
       "      <th>P(yi = 1| xi)</th>\n",
       "    </tr>\n",
       "  </thead>\n",
       "  <tbody>\n",
       "    <tr>\n",
       "      <td>0</td>\n",
       "      <td>1</td>\n",
       "      <td>0.970815</td>\n",
       "    </tr>\n",
       "    <tr>\n",
       "      <td>1</td>\n",
       "      <td>1</td>\n",
       "      <td>0.970815</td>\n",
       "    </tr>\n",
       "    <tr>\n",
       "      <td>2</td>\n",
       "      <td>1</td>\n",
       "      <td>0.970805</td>\n",
       "    </tr>\n",
       "    <tr>\n",
       "      <td>3</td>\n",
       "      <td>1</td>\n",
       "      <td>0.970708</td>\n",
       "    </tr>\n",
       "    <tr>\n",
       "      <td>4</td>\n",
       "      <td>1</td>\n",
       "      <td>0.951456</td>\n",
       "    </tr>\n",
       "  </tbody>\n",
       "</table>\n",
       "</div>"
      ],
      "text/plain": [
       "   yi  P(yi = 1| xi)\n",
       "0   1       0.970815\n",
       "1   1       0.970815\n",
       "2   1       0.970805\n",
       "3   1       0.970708\n",
       "4   1       0.951456"
      ]
     },
     "execution_count": 67,
     "metadata": {},
     "output_type": "execute_result"
    }
   ],
   "source": [
    " data = {'yi':y_test.values, 'P(yi = 1| xi)':predict_y[:,1]} \n",
    "  \n",
    "# Creates pandas DataFrame. \n",
    "df = pd.DataFrame(data) \n",
    "df.head()"
   ]
  },
  {
   "cell_type": "code",
   "execution_count": 68,
   "metadata": {},
   "outputs": [],
   "source": [
    "df.to_csv('result.csv') "
   ]
  },
  {
   "cell_type": "code",
   "execution_count": null,
   "metadata": {},
   "outputs": [],
   "source": []
  }
 ],
 "metadata": {
  "kernelspec": {
   "display_name": "Python 3",
   "language": "python",
   "name": "python3"
  },
  "language_info": {
   "codemirror_mode": {
    "name": "ipython",
    "version": 3
   },
   "file_extension": ".py",
   "mimetype": "text/x-python",
   "name": "python",
   "nbconvert_exporter": "python",
   "pygments_lexer": "ipython3",
   "version": "3.6.9"
  }
 },
 "nbformat": 4,
 "nbformat_minor": 4
}
